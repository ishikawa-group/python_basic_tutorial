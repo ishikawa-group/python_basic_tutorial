{
 "cells": [
  {
   "cell_type": "markdown",
   "metadata": {},
   "source": [
    "Import libraries."
   ]
  },
  {
   "cell_type": "code",
   "execution_count": 27,
   "metadata": {},
   "outputs": [],
   "source": [
    "# PyTorch\n",
    "import torch\n",
    "import torch.nn as nn\n",
    "import torch.nn.functional as F\n",
    " \n",
    "# PyTorch visualization\n",
    "import torchvision\n",
    "import torchvision.transforms as transforms\n",
    " \n",
    "# matplot\n",
    "import matplotlib.pyplot as plt\n",
    "%matplotlib inline"
   ]
  },
  {
   "cell_type": "markdown",
   "metadata": {},
   "source": [
    "Getting datasets."
   ]
  },
  {
   "cell_type": "code",
   "execution_count": 28,
   "metadata": {},
   "outputs": [],
   "source": [
    "batch_size = 128\n",
    " \n",
    "# getting dataset\n",
    "train_dataset = torchvision.datasets.MNIST(\n",
    "  root='./data',\n",
    "  train=True,\n",
    "  transform=transforms.ToTensor(),\n",
    "  download=True,\n",
    ")\n",
    "\n",
    "# make DataLoader\n",
    "train_loader = torch.utils.data.DataLoader(\n",
    "  dataset=train_dataset,\n",
    "  batch_size=batch_size,\n",
    "  shuffle=True,\n",
    "  num_workers=0\n",
    ")"
   ]
  },
  {
   "cell_type": "markdown",
   "metadata": {},
   "source": [
    "Encoder"
   ]
  },
  {
   "cell_type": "code",
   "execution_count": 29,
   "metadata": {},
   "outputs": [],
   "source": [
    "class Encoder(nn.Module):\n",
    "  def __init__(self, input_dim, hidden_dim, latent_dim):\n",
    "    super(Encoder, self).__init__()\n",
    "    self.fc = nn.Linear(input_dim, hidden_dim)\n",
    "    self.fc_mu = nn.Linear(hidden_dim, latent_dim)\n",
    "    self.fc_var = nn.Linear(hidden_dim, latent_dim)\n",
    "\n",
    "  def forward(self, x):\n",
    "    # calculate mean and st-dev of posterior distribution by NN\n",
    "    h = torch.relu(self.fc(x))\n",
    "    mu = self.fc_mu(h) # mean\n",
    "    log_var = self.fc_var(h) # log of stdev^2\n",
    "\n",
    "    # calculate the latent variable\n",
    "    ## make standard-distributed random numbers\n",
    "    eps = torch.randn_like(torch.exp(log_var))\n",
    "    ## calculate the latent variable: mu + sigma*eps\n",
    "    z = mu + torch.exp(log_var / 2) * eps\n",
    "    return mu, log_var, z"
   ]
  },
  {
   "cell_type": "markdown",
   "metadata": {},
   "source": [
    "Decoder."
   ]
  },
  {
   "cell_type": "code",
   "execution_count": 30,
   "metadata": {},
   "outputs": [],
   "source": [
    "class Decoder(nn.Module):\n",
    "  def __init__(self, input_dim, hidden_dim, latent_dim):\n",
    "    super(Decoder, self).__init__()\n",
    "    self.fc = nn.Linear(latent_dim, hidden_dim)\n",
    "    self.fc_output = nn.Linear(hidden_dim, input_dim)\n",
    "\n",
    "  def forward(self, z):\n",
    "    h = torch.relu(self.fc(z))\n",
    "    output = torch.sigmoid(self.fc_output(h))\n",
    "    return output"
   ]
  },
  {
   "cell_type": "markdown",
   "metadata": {},
   "source": [
    "VAE"
   ]
  },
  {
   "cell_type": "code",
   "execution_count": 31,
   "metadata": {},
   "outputs": [],
   "source": [
    "class VAE(nn.Module):\n",
    "  def __init__(self, input_dim, hidden_dim, latent_dim):\n",
    "    super(VAE, self).__init__()\n",
    "    self.encoder = Encoder(input_dim, hidden_dim, latent_dim)\n",
    "    self.decoder = Decoder(input_dim, hidden_dim, latent_dim)\n",
    "\n",
    "  def forward(self, x):\n",
    "    mu, log_var, z = self.encoder(x) # エンコード\n",
    "    x_decoded = self.decoder(z) # デコード\n",
    "    return x_decoded, mu, log_var, z"
   ]
  },
  {
   "cell_type": "markdown",
   "metadata": {},
   "source": [
    "Loss function."
   ]
  },
  {
   "cell_type": "code",
   "execution_count": 32,
   "metadata": {},
   "outputs": [],
   "source": [
    "def loss_function(label, predict, mu, log_var):\n",
    "  reconstruction_loss = F.binary_cross_entropy(predict, label, reduction='sum')\n",
    "  kl_loss = - 0.5 * torch.sum(1 + log_var - mu.pow(2) - log_var.exp())\n",
    "  vae_loss = reconstruction_loss + kl_loss\n",
    "  return vae_loss, reconstruction_loss, kl_loss"
   ]
  },
  {
   "cell_type": "markdown",
   "metadata": {},
   "source": [
    "Let's execute."
   ]
  },
  {
   "cell_type": "code",
   "execution_count": 33,
   "metadata": {},
   "outputs": [
    {
     "name": "stdout",
     "output_type": "stream",
     "text": [
      "Epoch: 1, loss:  36980.0625, reconstruct loss:  33685.7461, KL loss:  3294.3164\n",
      "Epoch: 1, loss:  30121.7500, reconstruct loss:  28190.6367, KL loss:  1931.1129\n",
      "Epoch: 1, loss:  27559.9160, reconstruct loss:  26192.3984, KL loss:  1367.5182\n",
      "Epoch: 1, loss:  27428.5195, reconstruct loss:  26189.2910, KL loss:  1239.2291\n",
      "Epoch: 1, loss:  27122.9414, reconstruct loss:  25838.7578, KL loss:  1284.1846\n",
      "Epoch: 1, loss:  26421.5000, reconstruct loss:  25058.8223, KL loss:  1362.6783\n",
      "Epoch: 1, loss:  24307.9727, reconstruct loss:  22763.3516, KL loss:  1544.6208\n",
      "Epoch: 1, loss:  24686.1055, reconstruct loss:  23238.4980, KL loss:  1447.6082\n",
      "Epoch: 1, loss:  23705.9570, reconstruct loss:  22135.5547, KL loss:  1570.4025\n",
      "Epoch: 2, loss:  22679.2461, reconstruct loss:  21110.2207, KL loss:  1569.0247\n",
      "Epoch: 2, loss:  22540.8691, reconstruct loss:  21014.2402, KL loss:  1526.6296\n",
      "Epoch: 2, loss:  22078.5234, reconstruct loss:  20414.9375, KL loss:  1663.5868\n",
      "Epoch: 2, loss:  22065.5176, reconstruct loss:  20417.7910, KL loss:  1647.7269\n",
      "Epoch: 2, loss:  21353.2852, reconstruct loss:  19670.7383, KL loss:  1682.5459\n",
      "Epoch: 2, loss:  20664.2051, reconstruct loss:  18916.9805, KL loss:  1747.2238\n",
      "Epoch: 2, loss:  20986.6758, reconstruct loss:  19255.5586, KL loss:  1731.1177\n",
      "Epoch: 2, loss:  20799.2285, reconstruct loss:  18986.5820, KL loss:  1812.6467\n",
      "Epoch: 2, loss:  21240.2188, reconstruct loss:  19434.5625, KL loss:  1805.6553\n",
      "Epoch: 3, loss:  20599.8379, reconstruct loss:  18716.3438, KL loss:  1883.4939\n",
      "Epoch: 3, loss:  19897.4121, reconstruct loss:  18162.1211, KL loss:  1735.2908\n",
      "Epoch: 3, loss:  19845.4648, reconstruct loss:  18085.1309, KL loss:  1760.3346\n",
      "Epoch: 3, loss:  20503.9238, reconstruct loss:  18713.0000, KL loss:  1790.9233\n",
      "Epoch: 3, loss:  20252.6621, reconstruct loss:  18387.4316, KL loss:  1865.2310\n",
      "Epoch: 3, loss:  20749.1055, reconstruct loss:  18894.1465, KL loss:  1854.9580\n",
      "Epoch: 3, loss:  20083.3594, reconstruct loss:  18277.3477, KL loss:  1806.0112\n",
      "Epoch: 3, loss:  19394.3965, reconstruct loss:  17583.1367, KL loss:  1811.2589\n",
      "Epoch: 3, loss:  20293.3613, reconstruct loss:  18465.4453, KL loss:  1827.9164\n",
      "Epoch: 4, loss:  19237.2461, reconstruct loss:  17477.3086, KL loss:  1759.9382\n",
      "Epoch: 4, loss:  19357.6152, reconstruct loss:  17567.5859, KL loss:  1790.0292\n",
      "Epoch: 4, loss:  18678.4043, reconstruct loss:  16855.9414, KL loss:  1822.4624\n",
      "Epoch: 4, loss:  19843.7734, reconstruct loss:  18015.2930, KL loss:  1828.4808\n",
      "Epoch: 4, loss:  19231.1504, reconstruct loss:  17307.5742, KL loss:  1923.5760\n",
      "Epoch: 4, loss:  19483.5879, reconstruct loss:  17671.9844, KL loss:  1811.6028\n",
      "Epoch: 4, loss:  20029.7266, reconstruct loss:  18149.9258, KL loss:  1879.8011\n",
      "Epoch: 4, loss:  18692.2852, reconstruct loss:  16868.9414, KL loss:  1823.3447\n",
      "Epoch: 4, loss:  19063.9043, reconstruct loss:  17185.9609, KL loss:  1877.9431\n",
      "Epoch: 5, loss:  18882.9199, reconstruct loss:  17041.8613, KL loss:  1841.0593\n",
      "Epoch: 5, loss:  18681.6094, reconstruct loss:  16833.5078, KL loss:  1848.1014\n",
      "Epoch: 5, loss:  19262.2480, reconstruct loss:  17313.5625, KL loss:  1948.6855\n",
      "Epoch: 5, loss:  18380.9609, reconstruct loss:  16489.7910, KL loss:  1891.1697\n",
      "Epoch: 5, loss:  18751.1270, reconstruct loss:  16814.4180, KL loss:  1936.7087\n",
      "Epoch: 5, loss:  19081.8047, reconstruct loss:  17239.0195, KL loss:  1842.7849\n",
      "Epoch: 5, loss:  18247.3828, reconstruct loss:  16427.4297, KL loss:  1819.9535\n",
      "Epoch: 5, loss:  17881.4766, reconstruct loss:  15994.8711, KL loss:  1886.6057\n",
      "Epoch: 5, loss:  17559.6133, reconstruct loss:  15793.1807, KL loss:  1766.4329\n",
      "Epoch: 6, loss:  18163.2773, reconstruct loss:  16219.7295, KL loss:  1943.5471\n",
      "Epoch: 6, loss:  17134.7949, reconstruct loss:  15233.0527, KL loss:  1901.7430\n",
      "Epoch: 6, loss:  18227.6465, reconstruct loss:  16334.0361, KL loss:  1893.6106\n",
      "Epoch: 6, loss:  17363.6758, reconstruct loss:  15528.4150, KL loss:  1835.2612\n",
      "Epoch: 6, loss:  16642.0879, reconstruct loss:  14856.9932, KL loss:  1785.0941\n",
      "Epoch: 6, loss:  16718.9141, reconstruct loss:  14901.3418, KL loss:  1817.5713\n",
      "Epoch: 6, loss:  18478.6055, reconstruct loss:  16666.6445, KL loss:  1811.9607\n",
      "Epoch: 6, loss:  18053.0547, reconstruct loss:  16203.6113, KL loss:  1849.4442\n",
      "Epoch: 6, loss:  17911.4785, reconstruct loss:  16059.2510, KL loss:  1852.2273\n",
      "Epoch: 7, loss:  18146.9492, reconstruct loss:  16321.9805, KL loss:  1824.9690\n",
      "Epoch: 7, loss:  16799.4004, reconstruct loss:  14957.4785, KL loss:  1841.9227\n",
      "Epoch: 7, loss:  17664.3691, reconstruct loss:  15806.5254, KL loss:  1857.8433\n",
      "Epoch: 7, loss:  18174.7539, reconstruct loss:  16268.0410, KL loss:  1906.7124\n",
      "Epoch: 7, loss:  17556.8105, reconstruct loss:  15691.5146, KL loss:  1865.2968\n",
      "Epoch: 7, loss:  17841.8906, reconstruct loss:  15985.2070, KL loss:  1856.6843\n",
      "Epoch: 7, loss:  17469.6055, reconstruct loss:  15584.1562, KL loss:  1885.4500\n",
      "Epoch: 7, loss:  17319.4609, reconstruct loss:  15397.3496, KL loss:  1922.1113\n",
      "Epoch: 7, loss:  17666.1758, reconstruct loss:  15872.1064, KL loss:  1794.0687\n",
      "Epoch: 8, loss:  17001.1621, reconstruct loss:  15110.4131, KL loss:  1890.7493\n",
      "Epoch: 8, loss:  16439.6445, reconstruct loss:  14484.7109, KL loss:  1954.9333\n",
      "Epoch: 8, loss:  17821.8164, reconstruct loss:  15887.9785, KL loss:  1933.8376\n",
      "Epoch: 8, loss:  17502.4922, reconstruct loss:  15521.6699, KL loss:  1980.8225\n",
      "Epoch: 8, loss:  16860.9258, reconstruct loss:  14932.8564, KL loss:  1928.0693\n",
      "Epoch: 8, loss:  17500.4355, reconstruct loss:  15480.3037, KL loss:  2020.1327\n",
      "Epoch: 8, loss:  17910.6426, reconstruct loss:  15944.6396, KL loss:  1966.0026\n",
      "Epoch: 8, loss:  18299.0371, reconstruct loss:  16361.9883, KL loss:  1937.0496\n",
      "Epoch: 8, loss:  16990.5078, reconstruct loss:  15078.0449, KL loss:  1912.4637\n",
      "Epoch: 9, loss:  17106.6406, reconstruct loss:  15237.9609, KL loss:  1868.6807\n",
      "Epoch: 9, loss:  17349.2148, reconstruct loss:  15486.9199, KL loss:  1862.2943\n",
      "Epoch: 9, loss:  16936.3340, reconstruct loss:  14997.6152, KL loss:  1938.7180\n",
      "Epoch: 9, loss:  17565.6523, reconstruct loss:  15618.9561, KL loss:  1946.6962\n",
      "Epoch: 9, loss:  17653.7207, reconstruct loss:  15694.5859, KL loss:  1959.1340\n",
      "Epoch: 9, loss:  16705.8340, reconstruct loss:  14767.9277, KL loss:  1937.9070\n",
      "Epoch: 9, loss:  17198.1738, reconstruct loss:  15214.5273, KL loss:  1983.6469\n",
      "Epoch: 9, loss:  18173.2109, reconstruct loss:  16215.3135, KL loss:  1957.8972\n",
      "Epoch: 9, loss:  16569.2246, reconstruct loss:  14532.7539, KL loss:  2036.4712\n",
      "Epoch: 10, loss:  17057.5410, reconstruct loss:  15120.7656, KL loss:  1936.7755\n",
      "Epoch: 10, loss:  16765.3164, reconstruct loss:  14802.9961, KL loss:  1962.3206\n",
      "Epoch: 10, loss:  16421.7539, reconstruct loss:  14419.6641, KL loss:  2002.0903\n",
      "Epoch: 10, loss:  17153.2188, reconstruct loss:  15213.1270, KL loss:  1940.0923\n",
      "Epoch: 10, loss:  17517.9668, reconstruct loss:  15559.8711, KL loss:  1958.0962\n",
      "Epoch: 10, loss:  16793.4238, reconstruct loss:  14775.6484, KL loss:  2017.7760\n",
      "Epoch: 10, loss:  17058.9414, reconstruct loss:  15089.8262, KL loss:  1969.1155\n",
      "Epoch: 10, loss:  17165.9414, reconstruct loss:  15198.2812, KL loss:  1967.6602\n",
      "Epoch: 10, loss:  16210.3525, reconstruct loss:  14237.7637, KL loss:  1972.5892\n"
     ]
    },
    {
     "data": {
      "image/png": "[encoded data removed]",
      "text/plain": [
       "<Figure size 1000x1000 with 25 Axes>"
      ]
     },
     "metadata": {},
     "output_type": "display_data"
    }
   ],
   "source": [
    "image_size = 28 * 28\n",
    "h_dim = 32\n",
    "z_dim = 16\n",
    "num_epochs = 10\n",
    "learning_rate = 1e-3\n",
    "\n",
    "device = \"cpu\"\n",
    "\n",
    "model = VAE(image_size, h_dim, z_dim).to(device)\n",
    "optimizer = torch.optim.Adam(model.parameters(), lr=learning_rate)\n",
    "\n",
    "losses = []\n",
    "model.train()\n",
    "for epoch in range(num_epochs):\n",
    "  train_loss = 0\n",
    "  for i, (x, labels) in enumerate(train_loader):\n",
    "    # prediction\n",
    "    x = x.to(device).view(-1, image_size).to(torch.float32)\n",
    "    x_recon, mu, log_var, z = model(x)\n",
    "\n",
    "    # calculate loss function\n",
    "    loss, recon_loss, kl_loss = loss_function(x, x_recon, mu, log_var)\n",
    "\n",
    "    # update the parameters\n",
    "    optimizer.zero_grad()\n",
    "    loss.backward()\n",
    "    optimizer.step()\n",
    "\n",
    "    # showing loss values\n",
    "    if (i+1) % 50 == 0:\n",
    "      print(f'Epoch: {epoch+1}, loss: {loss: 0.4f}, reconstruct loss: {recon_loss: 0.4f}, KL loss: {kl_loss: 0.4f}')\n",
    "    losses.append(loss)\n",
    "\n",
    "model.eval()\n",
    "\n",
    "with torch.no_grad():\n",
    "  z = torch.randn(25, z_dim).to(device)\n",
    "  out = model.decoder(z)\n",
    "out = out.view(-1, 28, 28)\n",
    "out = out.cpu().detach().numpy()\n",
    "\n",
    "fig, ax = plt.subplots(nrows=5, ncols=5, figsize=(10, 10))\n",
    "plt.gray()\n",
    "for i in range(25):\n",
    "  idx = divmod(i, 5)\n",
    "  ax[idx].imshow(out[i])\n",
    "  ax[idx].axis('off');\n",
    "\n",
    "# fig.show()  # not necesarry in Jupyter"
   ]
  },
  {
   "cell_type": "code",
   "execution_count": null,
   "metadata": {},
   "outputs": [],
   "source": []
  }
 ],
 "metadata": {
  "language_info": {
   "name": "python"
  },
  "orig_nbformat": 4
 },
 "nbformat": 4,
 "nbformat_minor": 2
}
